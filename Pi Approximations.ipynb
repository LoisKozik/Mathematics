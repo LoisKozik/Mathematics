{
 "cells": [
  {
   "cell_type": "code",
   "execution_count": 6,
   "metadata": {},
   "outputs": [],
   "source": [
    "from math import *\n",
    "from decimal import *"
   ]
  },
  {
   "cell_type": "markdown",
   "metadata": {},
   "source": [
    "# Gregory-Leibniz series\n",
    "$$ \\pi = 4\\sum_{n=1}^\\infty \\frac{(-1)^{n-1}}{2n-1} = 4(1-\\frac{1}{3}+\\frac{1}{5}-\\frac{1}{7}+\\cdots ) $$"
   ]
  },
  {
   "cell_type": "code",
   "execution_count": 1,
   "metadata": {},
   "outputs": [],
   "source": [
    "def mls(x):\n",
    "    a = 0\n",
    "    for n in range(1, x):\n",
    "        a += (-1)**(n-1)/(2*n-1)\n",
    "    return (4*a)"
   ]
  },
  {
   "cell_type": "code",
   "execution_count": 3,
   "metadata": {},
   "outputs": [
    {
     "data": {
      "text/plain": [
       "3.1516934060711166"
      ]
     },
     "execution_count": 3,
     "metadata": {},
     "output_type": "execute_result"
    }
   ],
   "source": [
    "mls(100)"
   ]
  },
  {
   "cell_type": "markdown",
   "metadata": {},
   "source": [
    "# Ramanujan\n",
    "\n",
    "\n",
    "$$\\frac{1}{\\pi}=\\frac{2\\sqrt2}{9801} \\sum_{k=0}^{\\infty}\\frac{(4k)!(1103+26390k)}{(4!)^{4}369^{4k}}$$"
   ]
  },
  {
   "cell_type": "code",
   "execution_count": 7,
   "metadata": {},
   "outputs": [],
   "source": [
    "def ram(n):\n",
    "    a=0\n",
    "    for k in range(n):\n",
    "        a+=factorial(4*k)*(1103+26390*k)/(factorial(3*k)**4*396**(4*k))\n",
    "    return 9801/(2*sqrt(2)*a)"
   ]
  },
  {
   "cell_type": "code",
   "execution_count": 8,
   "metadata": {},
   "outputs": [
    {
     "data": {
      "text/plain": [
       "3.1415927299543362"
      ]
     },
     "execution_count": 8,
     "metadata": {},
     "output_type": "execute_result"
    }
   ],
   "source": [
    "ram(10)"
   ]
  },
  {
   "cell_type": "markdown",
   "metadata": {},
   "source": [
    "# David and Gregory Chudnovsky\n",
    "$$\\frac{1}{\\pi}= 12\\sum_{k=0}^{\\infty}\\frac{(-1)^k(6k)!(13591409+545140134k)}{(3k)!(k!)^{3}640320^{3k+\\frac{3}{2}}}$$"
   ]
  },
  {
   "cell_type": "code",
   "execution_count": 9,
   "metadata": {},
   "outputs": [],
   "source": [
    "def dgc(n):\n",
    "    a=0\n",
    "    for k in range(n):\n",
    "        a+=((-1)**k*factorial(6*k)*(13591409+545140134*k))/(factorial(3*k)*factorial(k)**3*640320**(3*k+1.5))\n",
    "    return 1/(12*a)"
   ]
  },
  {
   "cell_type": "code",
   "execution_count": 10,
   "metadata": {},
   "outputs": [
    {
     "data": {
      "text/plain": [
       "3.1415926535897936"
      ]
     },
     "execution_count": 10,
     "metadata": {},
     "output_type": "execute_result"
    }
   ],
   "source": [
    "dgc(10)"
   ]
  },
  {
   "cell_type": "markdown",
   "metadata": {},
   "source": [
    "# Newton\n",
    "$$\\pi=20\\arctan\\frac{1}{7}+8\\arctan\\frac{3}{79}$$\n",
    "\n",
    "$$\\frac{\\pi}{2}= \\sum_{k=0}^{\\infty}\\frac{k!}{(2k+1)!!}=\\sum_{k=0}^{\\infty}\\frac{2^{k}k!^2}{(2k+1)!} = 1+\\frac{1}{3}(1+\\frac{2}{5}(1+\\frac{3}{7}(1+\\cdots)))$$"
   ]
  },
  {
   "cell_type": "code",
   "execution_count": 10,
   "metadata": {},
   "outputs": [
    {
     "data": {
      "text/plain": [
       "3.141592653589793"
      ]
     },
     "execution_count": 10,
     "metadata": {},
     "output_type": "execute_result"
    }
   ],
   "source": [
    "pi=20*atan(1/7)+8*atan(3/79)\n",
    "pi"
   ]
  },
  {
   "cell_type": "code",
   "execution_count": 11,
   "metadata": {},
   "outputs": [],
   "source": [
    "def nwt(n):\n",
    "    a=0\n",
    "    for k in range(n):\n",
    "        a+=(2**k*factorial(k)**2)/factorial(2*k+1)\n",
    "    return a*2"
   ]
  },
  {
   "cell_type": "code",
   "execution_count": 15,
   "metadata": {},
   "outputs": [
    {
     "data": {
      "text/plain": [
       "3.1415926535897922"
      ]
     },
     "execution_count": 15,
     "metadata": {},
     "output_type": "execute_result"
    }
   ],
   "source": [
    "nwt(100)"
   ]
  }
 ],
 "metadata": {
  "kernelspec": {
   "display_name": "Python 3",
   "language": "python",
   "name": "python3"
  },
  "language_info": {
   "codemirror_mode": {
    "name": "ipython",
    "version": 3
   },
   "file_extension": ".py",
   "mimetype": "text/x-python",
   "name": "python",
   "nbconvert_exporter": "python",
   "pygments_lexer": "ipython3",
   "version": "3.10.11"
  },
  "orig_nbformat": 4
 },
 "nbformat": 4,
 "nbformat_minor": 2
}
